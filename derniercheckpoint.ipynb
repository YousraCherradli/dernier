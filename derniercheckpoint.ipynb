{
 "cells": [
  {
   "cell_type": "code",
   "execution_count": 2,
   "id": "a774403c",
   "metadata": {},
   "outputs": [
    {
     "name": "stdout",
     "output_type": "stream",
     "text": [
      "F\n"
     ]
    }
   ],
   "source": [
    "def flames_game(name1, name2):\n",
    "   \n",
    "    name1 = name1.replace(\" \", \"\").lower()\n",
    "    name2 = name2.replace(\" \", \"\").lower()\n",
    "\n",
    "  \n",
    "    for char in name1:\n",
    "        if char in name2:\n",
    "            name2 = name2.replace(char, \"\", 1)\n",
    "            name1 = name1.replace(char, \"\", 1)\n",
    "\n",
    "   \n",
    "    count = len(name1 + name2)\n",
    "\n",
    "   \n",
    "    flames = [\"F\", \"L\", \"A\", \"M\", \"E\", \"S\"]\n",
    "\n",
    "    \n",
    "    while len(flames) > 1:\n",
    "        split_index = (count % len(flames)) - 1\n",
    "\n",
    "        if split_index >= 0:\n",
    "            right = flames[split_index + 1:]\n",
    "            left = flames[:split_index]\n",
    "            flames = right + left\n",
    "        else:\n",
    "            flames = flames[:len(flames) - 1]\n",
    "\n",
    "    # return the result\n",
    "    return flames[0]\n",
    "\n",
    "# test the game\n",
    "print(flames_game(\"AJAY\", \"PRIYA\"))\n"
   ]
  },
  {
   "cell_type": "code",
   "execution_count": null,
   "id": "9c3a1a72",
   "metadata": {},
   "outputs": [],
   "source": []
  }
 ],
 "metadata": {
  "kernelspec": {
   "display_name": "Python 3 (ipykernel)",
   "language": "python",
   "name": "python3"
  },
  "language_info": {
   "codemirror_mode": {
    "name": "ipython",
    "version": 3
   },
   "file_extension": ".py",
   "mimetype": "text/x-python",
   "name": "python",
   "nbconvert_exporter": "python",
   "pygments_lexer": "ipython3",
   "version": "3.9.13"
  }
 },
 "nbformat": 4,
 "nbformat_minor": 5
}
